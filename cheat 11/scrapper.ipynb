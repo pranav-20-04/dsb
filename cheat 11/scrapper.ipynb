{
 "cells": [
  {
   "cell_type": "code",
   "execution_count": 1,
   "id": "06499198-dc7d-4845-a061-baf86ca38164",
   "metadata": {},
   "outputs": [
    {
     "name": "stdout",
     "output_type": "stream",
     "text": [
      "Requirement already satisfied: requests in c:\\users\\rushi\\appdata\\local\\programs\\python\\python312\\lib\\site-packages (2.32.3)\n",
      "Requirement already satisfied: beautifulsoup4 in c:\\users\\rushi\\appdata\\local\\programs\\python\\python312\\lib\\site-packages (4.13.3)\n",
      "Requirement already satisfied: charset-normalizer<4,>=2 in c:\\users\\rushi\\appdata\\local\\programs\\python\\python312\\lib\\site-packages (from requests) (2.1.1)\n",
      "Requirement already satisfied: idna<4,>=2.5 in c:\\users\\rushi\\appdata\\local\\programs\\python\\python312\\lib\\site-packages (from requests) (3.10)\n",
      "Requirement already satisfied: urllib3<3,>=1.21.1 in c:\\users\\rushi\\appdata\\local\\programs\\python\\python312\\lib\\site-packages (from requests) (1.26.20)\n",
      "Requirement already satisfied: certifi>=2017.4.17 in c:\\users\\rushi\\appdata\\local\\programs\\python\\python312\\lib\\site-packages (from requests) (2025.1.31)\n",
      "Requirement already satisfied: soupsieve>1.2 in c:\\users\\rushi\\appdata\\local\\programs\\python\\python312\\lib\\site-packages (from beautifulsoup4) (2.6)\n",
      "Requirement already satisfied: typing-extensions>=4.0.0 in c:\\users\\rushi\\appdata\\local\\programs\\python\\python312\\lib\\site-packages (from beautifulsoup4) (4.12.2)\n"
     ]
    },
    {
     "name": "stderr",
     "output_type": "stream",
     "text": [
      "\n",
      "[notice] A new release of pip is available: 25.0.1 -> 25.1.1\n",
      "[notice] To update, run: python.exe -m pip install --upgrade pip\n"
     ]
    }
   ],
   "source": [
    "!pip install requests beautifulsoup4 "
   ]
  },
  {
   "cell_type": "code",
   "execution_count": 2,
   "id": "a68d50c8-4b7d-4462-bbf0-7169c301e4fa",
   "metadata": {},
   "outputs": [],
   "source": [
    "import requests "
   ]
  },
  {
   "cell_type": "code",
   "execution_count": 3,
   "id": "008a752b-6c99-4bdb-bf43-f39ae1cd05aa",
   "metadata": {},
   "outputs": [],
   "source": [
    "from bs4 import BeautifulSoup"
   ]
  },
  {
   "cell_type": "code",
   "execution_count": 4,
   "id": "b8a97fd2-6075-4cdd-bafc-841ecba34509",
   "metadata": {},
   "outputs": [],
   "source": [
    "url = \"https://books.toscrape.com/\"\n",
    "headers = {\n",
    "    \"User-Agent\": \"Mozilla/5.0\"\n",
    "}\n"
   ]
  },
  {
   "cell_type": "code",
   "execution_count": 5,
   "id": "ab1b7260-b0be-4506-95f4-17ce797be1f0",
   "metadata": {},
   "outputs": [],
   "source": [
    "response = requests.get(url, headers=headers)\n",
    "soup = BeautifulSoup(response.text, \"html.parser\")\n"
   ]
  },
  {
   "cell_type": "code",
   "execution_count": 6,
   "id": "7006ac4f-c2d0-4a32-997f-024001005022",
   "metadata": {},
   "outputs": [
    {
     "name": "stdout",
     "output_type": "stream",
     "text": [
      "Total books found: 20\n"
     ]
    }
   ],
   "source": [
    "books = soup.find_all(\"article\", class_=\"product_pod\")\n",
    "print(\"Total books found:\", len(books))"
   ]
  },
  {
   "cell_type": "code",
   "execution_count": 7,
   "id": "001b411e-30c8-4b45-ab71-7774109f9965",
   "metadata": {},
   "outputs": [
    {
     "name": "stdout",
     "output_type": "stream",
     "text": [
      "Title: A Light in the Attic\n",
      "Price: Â£51.77\n",
      "Rating: Three\n",
      "--------------------------------------------------\n",
      "Title: Tipping the Velvet\n",
      "Price: Â£53.74\n",
      "Rating: One\n",
      "--------------------------------------------------\n",
      "Title: Soumission\n",
      "Price: Â£50.10\n",
      "Rating: One\n",
      "--------------------------------------------------\n",
      "Title: Sharp Objects\n",
      "Price: Â£47.82\n",
      "Rating: Four\n",
      "--------------------------------------------------\n",
      "Title: Sapiens: A Brief History of Humankind\n",
      "Price: Â£54.23\n",
      "Rating: Five\n",
      "--------------------------------------------------\n"
     ]
    }
   ],
   "source": [
    "for book in books[:5]:  # Print first 5 books\n",
    "    title = book.h3.a[\"title\"]\n",
    "    price = book.find(\"p\", class_=\"price_color\").text\n",
    "    rating = book.p[\"class\"][1]  # e.g., \"One\", \"Two\", \"Three\"\n",
    "\n",
    "    print(\"Title:\", title)\n",
    "    print(\"Price:\", price)\n",
    "    print(\"Rating:\", rating)\n",
    "    print(\"-\" * 50)"
   ]
  },
  {
   "cell_type": "code",
   "execution_count": 8,
   "id": "536c35e6-c49a-4c22-84f8-bd32540d3ca4",
   "metadata": {},
   "outputs": [
    {
     "data": {
      "text/plain": [
       "'A Light in the Attic'"
      ]
     },
     "execution_count": 8,
     "metadata": {},
     "output_type": "execute_result"
    }
   ],
   "source": [
    "soup.select('article h3 a')[0]['title']"
   ]
  },
  {
   "cell_type": "code",
   "execution_count": 9,
   "id": "d6559a96-cd01-43af-97c0-2a9cf0f6f64c",
   "metadata": {},
   "outputs": [],
   "source": [
    "import pandas as pd"
   ]
  },
  {
   "cell_type": "code",
   "execution_count": 10,
   "id": "d4cec6f5-a0bf-4822-bf13-3623d185518f",
   "metadata": {},
   "outputs": [],
   "source": [
    "import time"
   ]
  },
  {
   "cell_type": "code",
   "execution_count": 11,
   "id": "55130699-01ca-46f0-9766-3cc0fe94aeee",
   "metadata": {},
   "outputs": [],
   "source": [
    "base_url = 'https://books.toscrape.com/catalogue/page-{}.html'\n",
    "headers = {'User-Agent': 'Mozilla/5.0'}\n",
    "\n",
    "titles = []\n",
    "prices = []\n",
    "ratings = []\n",
    "availability = []\n"
   ]
  },
  {
   "cell_type": "code",
   "execution_count": 12,
   "id": "b0295987-90a9-412d-8aba-ba21781d4c87",
   "metadata": {},
   "outputs": [
    {
     "name": "stdout",
     "output_type": "stream",
     "text": [
      "Scraping page 1...\n",
      "Scraping page 2...\n",
      "Scraping page 3...\n",
      "Scraping page 4...\n",
      "Scraping page 5...\n"
     ]
    }
   ],
   "source": [
    "for page in range(1, 6):\n",
    "    print(f\"Scraping page {page}...\")\n",
    "    response = requests.get(base_url.format(page), headers=headers)\n",
    "    soup = BeautifulSoup(response.content, 'html.parser')\n",
    "    books = soup.find_all('article', class_='product_pod')\n",
    "    \n",
    "    for book in books:\n",
    "        title = book.h3.a['title']\n",
    "        price = book.find('p', class_='price_color').text\n",
    "        availability_status = book.find('p', class_='instock availability').text.strip()\n",
    "        rating_class = book.find('p', class_='star-rating')['class'][1]\n",
    "\n",
    "        titles.append(title)\n",
    "        prices.append(price)\n",
    "        ratings.append(rating_class)\n",
    "        availability.append(availability_status)\n",
    "\n",
    "    time.sleep(1)  # Respectful scraping\n"
   ]
  },
  {
   "cell_type": "code",
   "execution_count": 13,
   "id": "80454567-de47-40f5-b0e2-2904b97ae697",
   "metadata": {},
   "outputs": [
    {
     "data": {
      "text/html": [
       "<div>\n",
       "<style scoped>\n",
       "    .dataframe tbody tr th:only-of-type {\n",
       "        vertical-align: middle;\n",
       "    }\n",
       "\n",
       "    .dataframe tbody tr th {\n",
       "        vertical-align: top;\n",
       "    }\n",
       "\n",
       "    .dataframe thead th {\n",
       "        text-align: right;\n",
       "    }\n",
       "</style>\n",
       "<table border=\"1\" class=\"dataframe\">\n",
       "  <thead>\n",
       "    <tr style=\"text-align: right;\">\n",
       "      <th></th>\n",
       "      <th>Title</th>\n",
       "      <th>Price</th>\n",
       "      <th>Rating</th>\n",
       "      <th>Availability</th>\n",
       "    </tr>\n",
       "  </thead>\n",
       "  <tbody>\n",
       "    <tr>\n",
       "      <th>0</th>\n",
       "      <td>A Light in the Attic</td>\n",
       "      <td>£51.77</td>\n",
       "      <td>Three</td>\n",
       "      <td>In stock</td>\n",
       "    </tr>\n",
       "    <tr>\n",
       "      <th>1</th>\n",
       "      <td>Tipping the Velvet</td>\n",
       "      <td>£53.74</td>\n",
       "      <td>One</td>\n",
       "      <td>In stock</td>\n",
       "    </tr>\n",
       "    <tr>\n",
       "      <th>2</th>\n",
       "      <td>Soumission</td>\n",
       "      <td>£50.10</td>\n",
       "      <td>One</td>\n",
       "      <td>In stock</td>\n",
       "    </tr>\n",
       "    <tr>\n",
       "      <th>3</th>\n",
       "      <td>Sharp Objects</td>\n",
       "      <td>£47.82</td>\n",
       "      <td>Four</td>\n",
       "      <td>In stock</td>\n",
       "    </tr>\n",
       "    <tr>\n",
       "      <th>4</th>\n",
       "      <td>Sapiens: A Brief History of Humankind</td>\n",
       "      <td>£54.23</td>\n",
       "      <td>Five</td>\n",
       "      <td>In stock</td>\n",
       "    </tr>\n",
       "  </tbody>\n",
       "</table>\n",
       "</div>"
      ],
      "text/plain": [
       "                                   Title   Price Rating Availability\n",
       "0                   A Light in the Attic  £51.77  Three     In stock\n",
       "1                     Tipping the Velvet  £53.74    One     In stock\n",
       "2                             Soumission  £50.10    One     In stock\n",
       "3                          Sharp Objects  £47.82   Four     In stock\n",
       "4  Sapiens: A Brief History of Humankind  £54.23   Five     In stock"
      ]
     },
     "execution_count": 13,
     "metadata": {},
     "output_type": "execute_result"
    }
   ],
   "source": [
    "df = pd.DataFrame({\n",
    "    'Title': titles,\n",
    "    'Price': prices,\n",
    "    'Rating': ratings,\n",
    "    'Availability': availability\n",
    "})\n",
    "\n",
    "df.head()\n"
   ]
  },
  {
   "cell_type": "code",
   "execution_count": 14,
   "id": "f19d9630-27a7-4207-987f-13fa2c14b9bf",
   "metadata": {},
   "outputs": [
    {
     "data": {
      "text/plain": [
       "'£13.61'"
      ]
     },
     "execution_count": 14,
     "metadata": {},
     "output_type": "execute_result"
    }
   ],
   "source": [
    "soup.select('article p')[1].string"
   ]
  },
  {
   "cell_type": "code",
   "execution_count": 15,
   "id": "b1b0c05a-bdd4-4913-8855-b07462c9f492",
   "metadata": {},
   "outputs": [
    {
     "data": {
      "text/plain": [
       "['star-rating', 'Five']"
      ]
     },
     "execution_count": 15,
     "metadata": {},
     "output_type": "execute_result"
    }
   ],
   "source": [
    "soup.select('article p')[0]['class']"
   ]
  },
  {
   "cell_type": "code",
   "execution_count": null,
   "id": "d22ecf1a-a177-4fe4-b88d-71cbd3abc17a",
   "metadata": {},
   "outputs": [],
   "source": []
  }
 ],
 "metadata": {
  "kernelspec": {
   "display_name": "Python 3 (ipykernel)",
   "language": "python",
   "name": "python3"
  },
  "language_info": {
   "codemirror_mode": {
    "name": "ipython",
    "version": 3
   },
   "file_extension": ".py",
   "mimetype": "text/x-python",
   "name": "python",
   "nbconvert_exporter": "python",
   "pygments_lexer": "ipython3",
   "version": "3.12.6"
  }
 },
 "nbformat": 4,
 "nbformat_minor": 5
}
